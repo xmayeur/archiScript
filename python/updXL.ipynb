{
 "cells": [
  {
   "cell_type": "code",
   "execution_count": 189,
   "outputs": [],
   "source": [
    "# ! pip install pandas openpyxl xlsxwriter"
   ],
   "metadata": {
    "collapsed": false,
    "pycharm": {
     "name": "#%%\n"
    }
   }
  },
  {
   "cell_type": "code",
   "execution_count": 1,
   "metadata": {
    "collapsed": true
   },
   "outputs": [],
   "source": [
    "import csv\n",
    "from os import path, listdir\n",
    "import openpyxl as xl\n",
    "from openpyxl.styles import Alignment\n",
    "from openpyxl.worksheet.datavalidation import DataValidation"
   ]
  },
  {
   "cell_type": "code",
   "execution_count": 6,
   "outputs": [],
   "source": [
    "csv_path = r'C:\\Users\\XY56RE\\PycharmProjects\\p13596-architecture-model\\CSV'\n",
    "xl_path = r'C:\\Users\\XY56RE\\ING\\BE Architecture CoE Application Landscape - General\\BE Mainframe Decommissioning'\n",
    "xl_file = r'BE Mainframe Application Functional Information.xlsx'\n",
    "out_path = r'C:\\Users\\XY56RE\\PycharmProjects\\p13596-architecture-model\\mfAppFiles\\test'\n",
    "xl_out = r'text.xlsx'\n",
    "csv_file = 'AIS_functional_export.csv'\n",
    "\n",
    "suffix = r' - BE Mainframe Application Functional Information.xlsx'"
   ],
   "metadata": {
    "collapsed": false,
    "pycharm": {
     "name": "#%%\n"
    }
   }
  },
  {
   "cell_type": "code",
   "execution_count": 191,
   "outputs": [],
   "source": [],
   "metadata": {
    "collapsed": false,
    "pycharm": {
     "name": "#%%\n"
    }
   }
  },
  {
   "cell_type": "code",
   "execution_count": 7,
   "outputs": [
    {
     "name": "stdout",
     "output_type": "stream",
     "text": [
      "C:\\Users\\XY56RE\\PycharmProjects\\p13596-architecture-model\\mfAppFiles\\test\\AIP - BE Mainframe Application Functional Information.xlsx\n"
     ]
    },
    {
     "name": "stderr",
     "output_type": "stream",
     "text": [
      "c:\\users\\xy56re\\pycharmprojects\\archiscripts\\venv\\lib\\site-packages\\openpyxl\\worksheet\\_reader.py:312: UserWarning: Data Validation extension is not supported and will be removed\n",
      "  warn(msg)\n"
     ]
    },
    {
     "name": "stdout",
     "output_type": "stream",
     "text": [
      "C:\\Users\\XY56RE\\PycharmProjects\\p13596-architecture-model\\mfAppFiles\\test\\AIS - BE Mainframe Application Functional Information.xlsx\n",
      "C:\\Users\\XY56RE\\PycharmProjects\\p13596-architecture-model\\mfAppFiles\\test\\AMI - BE Mainframe Application Functional Information.xlsx\n",
      "C:\\Users\\XY56RE\\PycharmProjects\\p13596-architecture-model\\mfAppFiles\\test\\ANS - BE Mainframe Application Functional Information.xlsx\n",
      "C:\\Users\\XY56RE\\PycharmProjects\\p13596-architecture-model\\mfAppFiles\\test\\APS - BE Mainframe Application Functional Information.xlsx\n",
      "C:\\Users\\XY56RE\\PycharmProjects\\p13596-architecture-model\\mfAppFiles\\test\\ARS - BE Mainframe Application Functional Information.xlsx\n",
      "C:\\Users\\XY56RE\\PycharmProjects\\p13596-architecture-model\\mfAppFiles\\test\\ART - BE Mainframe Application Functional Information.xlsx\n",
      "C:\\Users\\XY56RE\\PycharmProjects\\p13596-architecture-model\\mfAppFiles\\test\\ATT - BE Mainframe Application Functional Information.xlsx\n",
      "C:\\Users\\XY56RE\\PycharmProjects\\p13596-architecture-model\\mfAppFiles\\test\\AVO - BE Mainframe Application Functional Information.xlsx\n",
      "C:\\Users\\XY56RE\\PycharmProjects\\p13596-architecture-model\\mfAppFiles\\test\\BBP - BE Mainframe Application Functional Information.xlsx\n",
      "C:\\Users\\XY56RE\\PycharmProjects\\p13596-architecture-model\\mfAppFiles\\test\\BEC - BE Mainframe Application Functional Information.xlsx\n",
      "C:\\Users\\XY56RE\\PycharmProjects\\p13596-architecture-model\\mfAppFiles\\test\\BRB - BE Mainframe Application Functional Information.xlsx\n",
      "C:\\Users\\XY56RE\\PycharmProjects\\p13596-architecture-model\\mfAppFiles\\test\\CDW - BE Mainframe Application Functional Information.xlsx\n",
      "C:\\Users\\XY56RE\\PycharmProjects\\p13596-architecture-model\\mfAppFiles\\test\\CHQ - BE Mainframe Application Functional Information.xlsx\n",
      "C:\\Users\\XY56RE\\PycharmProjects\\p13596-architecture-model\\mfAppFiles\\test\\COP - BE Mainframe Application Functional Information.xlsx\n",
      "C:\\Users\\XY56RE\\PycharmProjects\\p13596-architecture-model\\mfAppFiles\\test\\CPM - BE Mainframe Application Functional Information.xlsx\n",
      "C:\\Users\\XY56RE\\PycharmProjects\\p13596-architecture-model\\mfAppFiles\\test\\CPS - BE Mainframe Application Functional Information.xlsx\n",
      "C:\\Users\\XY56RE\\PycharmProjects\\p13596-architecture-model\\mfAppFiles\\test\\CRE - BE Mainframe Application Functional Information.xlsx\n",
      "C:\\Users\\XY56RE\\PycharmProjects\\p13596-architecture-model\\mfAppFiles\\test\\CRR - BE Mainframe Application Functional Information.xlsx\n",
      "C:\\Users\\XY56RE\\PycharmProjects\\p13596-architecture-model\\mfAppFiles\\test\\CSI - BE Mainframe Application Functional Information.xlsx\n",
      "C:\\Users\\XY56RE\\PycharmProjects\\p13596-architecture-model\\mfAppFiles\\test\\CZA - BE Mainframe Application Functional Information.xlsx\n",
      "C:\\Users\\XY56RE\\PycharmProjects\\p13596-architecture-model\\mfAppFiles\\test\\DEV - BE Mainframe Application Functional Information.xlsx\n",
      "C:\\Users\\XY56RE\\PycharmProjects\\p13596-architecture-model\\mfAppFiles\\test\\DOM - BE Mainframe Application Functional Information.xlsx\n",
      "C:\\Users\\XY56RE\\PycharmProjects\\p13596-architecture-model\\mfAppFiles\\test\\DOP - BE Mainframe Application Functional Information.xlsx\n",
      "C:\\Users\\XY56RE\\PycharmProjects\\p13596-architecture-model\\mfAppFiles\\test\\DTR - BE Mainframe Application Functional Information.xlsx\n",
      "C:\\Users\\XY56RE\\PycharmProjects\\p13596-architecture-model\\mfAppFiles\\test\\ECU - BE Mainframe Application Functional Information.xlsx\n",
      "C:\\Users\\XY56RE\\PycharmProjects\\p13596-architecture-model\\mfAppFiles\\test\\EPS - BE Mainframe Application Functional Information.xlsx\n",
      "C:\\Users\\XY56RE\\PycharmProjects\\p13596-architecture-model\\mfAppFiles\\test\\FAR - BE Mainframe Application Functional Information.xlsx\n",
      "C:\\Users\\XY56RE\\PycharmProjects\\p13596-architecture-model\\mfAppFiles\\test\\FBO - BE Mainframe Application Functional Information.xlsx\n",
      "C:\\Users\\XY56RE\\PycharmProjects\\p13596-architecture-model\\mfAppFiles\\test\\FCO - BE Mainframe Application Functional Information.xlsx\n",
      "C:\\Users\\XY56RE\\PycharmProjects\\p13596-architecture-model\\mfAppFiles\\test\\FCP - BE Mainframe Application Functional Information.xlsx\n",
      "C:\\Users\\XY56RE\\PycharmProjects\\p13596-architecture-model\\mfAppFiles\\test\\FIL - BE Mainframe Application Functional Information.xlsx\n",
      "C:\\Users\\XY56RE\\PycharmProjects\\p13596-architecture-model\\mfAppFiles\\test\\FIN - BE Mainframe Application Functional Information.xlsx\n",
      "C:\\Users\\XY56RE\\PycharmProjects\\p13596-architecture-model\\mfAppFiles\\test\\FMI - BE Mainframe Application Functional Information.xlsx\n",
      "C:\\Users\\XY56RE\\PycharmProjects\\p13596-architecture-model\\mfAppFiles\\test\\FPM - BE Mainframe Application Functional Information.xlsx\n",
      "C:\\Users\\XY56RE\\PycharmProjects\\p13596-architecture-model\\mfAppFiles\\test\\GAL - BE Mainframe Application Functional Information.xlsx\n",
      "C:\\Users\\XY56RE\\PycharmProjects\\p13596-architecture-model\\mfAppFiles\\test\\GAR - BE Mainframe Application Functional Information.xlsx\n",
      "C:\\Users\\XY56RE\\PycharmProjects\\p13596-architecture-model\\mfAppFiles\\test\\GIB - BE Mainframe Application Functional Information.xlsx\n",
      "C:\\Users\\XY56RE\\PycharmProjects\\p13596-architecture-model\\mfAppFiles\\test\\GPM - BE Mainframe Application Functional Information.xlsx\n",
      "C:\\Users\\XY56RE\\PycharmProjects\\p13596-architecture-model\\mfAppFiles\\test\\ICH - BE Mainframe Application Functional Information.xlsx\n",
      "C:\\Users\\XY56RE\\PycharmProjects\\p13596-architecture-model\\mfAppFiles\\test\\IMC - BE Mainframe Application Functional Information.xlsx\n",
      "C:\\Users\\XY56RE\\PycharmProjects\\p13596-architecture-model\\mfAppFiles\\test\\INT - BE Mainframe Application Functional Information.xlsx\n",
      "C:\\Users\\XY56RE\\PycharmProjects\\p13596-architecture-model\\mfAppFiles\\test\\INV - BE Mainframe Application Functional Information.xlsx\n",
      "C:\\Users\\XY56RE\\PycharmProjects\\p13596-architecture-model\\mfAppFiles\\test\\IRM - BE Mainframe Application Functional Information.xlsx\n",
      "C:\\Users\\XY56RE\\PycharmProjects\\p13596-architecture-model\\mfAppFiles\\test\\KDC - BE Mainframe Application Functional Information.xlsx\n",
      "C:\\Users\\XY56RE\\PycharmProjects\\p13596-architecture-model\\mfAppFiles\\test\\KFC - BE Mainframe Application Functional Information.xlsx\n",
      "C:\\Users\\XY56RE\\PycharmProjects\\p13596-architecture-model\\mfAppFiles\\test\\KIC - BE Mainframe Application Functional Information.xlsx\n",
      "C:\\Users\\XY56RE\\PycharmProjects\\p13596-architecture-model\\mfAppFiles\\test\\KLC - BE Mainframe Application Functional Information.xlsx\n",
      "C:\\Users\\XY56RE\\PycharmProjects\\p13596-architecture-model\\mfAppFiles\\test\\KOC - BE Mainframe Application Functional Information.xlsx\n",
      "C:\\Users\\XY56RE\\PycharmProjects\\p13596-architecture-model\\mfAppFiles\\test\\LIL - BE Mainframe Application Functional Information.xlsx\n",
      "C:\\Users\\XY56RE\\PycharmProjects\\p13596-architecture-model\\mfAppFiles\\test\\MCA - BE Mainframe Application Functional Information.xlsx\n",
      "C:\\Users\\XY56RE\\PycharmProjects\\p13596-architecture-model\\mfAppFiles\\test\\OAV - BE Mainframe Application Functional Information.xlsx\n",
      "C:\\Users\\XY56RE\\PycharmProjects\\p13596-architecture-model\\mfAppFiles\\test\\OBB - BE Mainframe Application Functional Information.xlsx\n",
      "C:\\Users\\XY56RE\\PycharmProjects\\p13596-architecture-model\\mfAppFiles\\test\\OVI - BE Mainframe Application Functional Information.xlsx\n",
      "C:\\Users\\XY56RE\\PycharmProjects\\p13596-architecture-model\\mfAppFiles\\test\\PAC - BE Mainframe Application Functional Information.xlsx\n",
      "C:\\Users\\XY56RE\\PycharmProjects\\p13596-architecture-model\\mfAppFiles\\test\\PAN - BE Mainframe Application Functional Information.xlsx\n",
      "C:\\Users\\XY56RE\\PycharmProjects\\p13596-architecture-model\\mfAppFiles\\test\\PAS - BE Mainframe Application Functional Information.xlsx\n",
      "C:\\Users\\XY56RE\\PycharmProjects\\p13596-architecture-model\\mfAppFiles\\test\\PGP - BE Mainframe Application Functional Information.xlsx\n",
      "C:\\Users\\XY56RE\\PycharmProjects\\p13596-architecture-model\\mfAppFiles\\test\\PHL - BE Mainframe Application Functional Information.xlsx\n",
      "C:\\Users\\XY56RE\\PycharmProjects\\p13596-architecture-model\\mfAppFiles\\test\\PHM - BE Mainframe Application Functional Information.xlsx\n",
      "C:\\Users\\XY56RE\\PycharmProjects\\p13596-architecture-model\\mfAppFiles\\test\\RBG - BE Mainframe Application Functional Information.xlsx\n",
      "C:\\Users\\XY56RE\\PycharmProjects\\p13596-architecture-model\\mfAppFiles\\test\\RBK - BE Mainframe Application Functional Information.xlsx\n",
      "C:\\Users\\XY56RE\\PycharmProjects\\p13596-architecture-model\\mfAppFiles\\test\\REG - BE Mainframe Application Functional Information.xlsx\n",
      "C:\\Users\\XY56RE\\PycharmProjects\\p13596-architecture-model\\mfAppFiles\\test\\RER - BE Mainframe Application Functional Information.xlsx\n",
      "C:\\Users\\XY56RE\\PycharmProjects\\p13596-architecture-model\\mfAppFiles\\test\\SAS - BE Mainframe Application Functional Information.xlsx\n",
      "C:\\Users\\XY56RE\\PycharmProjects\\p13596-architecture-model\\mfAppFiles\\test\\SBB - BE Mainframe Application Functional Information.xlsx\n",
      "C:\\Users\\XY56RE\\PycharmProjects\\p13596-architecture-model\\mfAppFiles\\test\\SDR - BE Mainframe Application Functional Information.xlsx\n",
      "C:\\Users\\XY56RE\\PycharmProjects\\p13596-architecture-model\\mfAppFiles\\test\\SDS - BE Mainframe Application Functional Information.xlsx\n",
      "C:\\Users\\XY56RE\\PycharmProjects\\p13596-architecture-model\\mfAppFiles\\test\\SIL - BE Mainframe Application Functional Information.xlsx\n",
      "C:\\Users\\XY56RE\\PycharmProjects\\p13596-architecture-model\\mfAppFiles\\test\\STI - BE Mainframe Application Functional Information.xlsx\n",
      "C:\\Users\\XY56RE\\PycharmProjects\\p13596-architecture-model\\mfAppFiles\\test\\TAR - BE Mainframe Application Functional Information.xlsx\n",
      "C:\\Users\\XY56RE\\PycharmProjects\\p13596-architecture-model\\mfAppFiles\\test\\TAT - BE Mainframe Application Functional Information.xlsx\n",
      "C:\\Users\\XY56RE\\PycharmProjects\\p13596-architecture-model\\mfAppFiles\\test\\TCL - BE Mainframe Application Functional Information.xlsx\n",
      "C:\\Users\\XY56RE\\PycharmProjects\\p13596-architecture-model\\mfAppFiles\\test\\TER - BE Mainframe Application Functional Information.xlsx\n",
      "C:\\Users\\XY56RE\\PycharmProjects\\p13596-architecture-model\\mfAppFiles\\test\\TIC - BE Mainframe Application Functional Information.xlsx\n",
      "C:\\Users\\XY56RE\\PycharmProjects\\p13596-architecture-model\\mfAppFiles\\test\\TIT - BE Mainframe Application Functional Information.xlsx\n",
      "C:\\Users\\XY56RE\\PycharmProjects\\p13596-architecture-model\\mfAppFiles\\test\\TPA - BE Mainframe Application Functional Information.xlsx\n",
      "C:\\Users\\XY56RE\\PycharmProjects\\p13596-architecture-model\\mfAppFiles\\test\\TPC - BE Mainframe Application Functional Information.xlsx\n",
      "C:\\Users\\XY56RE\\PycharmProjects\\p13596-architecture-model\\mfAppFiles\\test\\TPF - BE Mainframe Application Functional Information.xlsx\n",
      "C:\\Users\\XY56RE\\PycharmProjects\\p13596-architecture-model\\mfAppFiles\\test\\TVL - BE Mainframe Application Functional Information.xlsx\n",
      "C:\\Users\\XY56RE\\PycharmProjects\\p13596-architecture-model\\mfAppFiles\\test\\VIR - BE Mainframe Application Functional Information.xlsx\n"
     ]
    }
   ],
   "source": [
    "files = listdir(csv_path)\n",
    "\n",
    "for f in files:\n",
    "    xl_out = path.join(out_path, f[:3]+suffix)\n",
    "    print(xl_out)\n",
    "\n",
    "    wb = xl.load_workbook(path.join(out_path, xl_file), read_only=False)\n",
    "    wb.save(xl_out)\n",
    "\n",
    "    ws = wb['Functional']\n",
    "    row = 2\n",
    "    with open(path.join(csv_path, f), newline='') as fd:\n",
    "        for rec in csv.reader(fd, delimiter=';'):\n",
    "            col = 1\n",
    "            for c in rec:\n",
    "                x = ws.cell(row=row, column=col)\n",
    "                x.value = c\n",
    "                x.alignment = Alignment(wrap_text=True, vertical='top')\n",
    "                col += 1\n",
    "            row += 1\n",
    "\n",
    "    if row > 2:\n",
    "        af_name= xl.worksheet.cell_range.CellRange(\"F3:F\"+str(row), title=ws.title)\n",
    "        af_range = xl.workbook.defined_name.DefinedName('AF', attr_text=af_name)\n",
    "        wb.defined_names.append(af_range)\n",
    "        af_dv = DataValidation(type=\"list\", formula1='=AF', allow_blank=False)\n",
    "\n",
    "        bo_name= xl.worksheet.cell_range.CellRange(\"I3:I\"+str(row), title=ws.title)\n",
    "        bo_range = xl.workbook.defined_name.DefinedName('BO', attr_text=bo_name)\n",
    "        wb.defined_names.append(bo_range)\n",
    "        bo_dv = DataValidation(type=\"list\", formula1='=BO', allow_blank=False)\n",
    "\n",
    "        ws2 = wb['Interactions']\n",
    "        ws2.add_data_validation(af_dv)\n",
    "        af_dv.add(\"A3:A459\")\n",
    "\n",
    "        ws2.add_data_validation(bo_dv)\n",
    "        bo_dv.add(\"B3:B459\")\n",
    "\n",
    "    wb.save(xl_out)"
   ],
   "metadata": {
    "collapsed": false,
    "pycharm": {
     "name": "#%%\n"
    }
   }
  },
  {
   "cell_type": "code",
   "execution_count": 192,
   "outputs": [],
   "source": [],
   "metadata": {
    "collapsed": false,
    "pycharm": {
     "name": "#%%\n"
    }
   }
  }
 ],
 "metadata": {
  "kernelspec": {
   "display_name": "Python 3",
   "language": "python",
   "name": "python3"
  },
  "language_info": {
   "codemirror_mode": {
    "name": "ipython",
    "version": 2
   },
   "file_extension": ".py",
   "mimetype": "text/x-python",
   "name": "python",
   "nbconvert_exporter": "python",
   "pygments_lexer": "ipython2",
   "version": "2.7.6"
  }
 },
 "nbformat": 4,
 "nbformat_minor": 0
}