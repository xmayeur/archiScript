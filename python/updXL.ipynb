{
 "cells": [
  {
   "cell_type": "code",
   "execution_count": 189,
   "outputs": [],
   "source": [
    "# ! pip install pandas openpyxl xlsxwriter"
   ],
   "metadata": {
    "collapsed": false,
    "pycharm": {
     "name": "#%%\n"
    }
   }
  },
  {
   "cell_type": "code",
   "execution_count": 190,
   "metadata": {
    "collapsed": true
   },
   "outputs": [],
   "source": [
    "import csv\n",
    "from os import path, listdir\n",
    "import openpyxl as xl\n",
    "from openpyxl.styles import Alignment\n",
    "from openpyxl.worksheet.datavalidation import DataValidation"
   ]
  },
  {
   "cell_type": "code",
   "execution_count": 191,
   "outputs": [],
   "source": [
    "csv_path = r'C:\\Users\\XY56RE\\PycharmProjects\\p13596-architecture-model\\CSV'\n",
    "xl_path = r'C:\\Users\\XY56RE\\ING\\BE Architecture CoE Application Landscape - General\\BE Mainframe Decommissioning'\n",
    "xl_file = r'BE Mainframe Application Functional Information.xlsx'\n",
    "out_path = r'C:\\Users\\XY56RE\\ING\\BE Architecture CoE Application Landscape - General\\BE Mainframe Decommissioning\\AF new format'\n",
    "xl_out = r'text.xlsx'\n",
    "csv_file = 'AIS_functional_export.csv'\n",
    "\n",
    "suffix = r' - BE Mainframe Application Functional Information.xlsx'"
   ],
   "metadata": {
    "collapsed": false,
    "pycharm": {
     "name": "#%%\n"
    }
   }
  },
  {
   "cell_type": "code",
   "execution_count": 191,
   "outputs": [],
   "source": [],
   "metadata": {
    "collapsed": false,
    "pycharm": {
     "name": "#%%\n"
    }
   }
  },
  {
   "cell_type": "code",
   "execution_count": 192,
   "outputs": [
    {
     "name": "stdout",
     "output_type": "stream",
     "text": [
      "C:\\Users\\XY56RE\\ING\\BE Architecture CoE Application Landscape - General\\BE Mainframe Decommissioning\\AF new format\\AIS - BE Mainframe Application Functional Information.xlsx\n"
     ]
    },
    {
     "name": "stderr",
     "output_type": "stream",
     "text": [
      "c:\\users\\xy56re\\pycharmprojects\\archiscripts\\venv\\lib\\site-packages\\openpyxl\\worksheet\\_reader.py:312: UserWarning: Data Validation extension is not supported and will be removed\n",
      "  warn(msg)\n"
     ]
    },
    {
     "name": "stdout",
     "output_type": "stream",
     "text": [
      "C:\\Users\\XY56RE\\ING\\BE Architecture CoE Application Landscape - General\\BE Mainframe Decommissioning\\AF new format\\AMI - BE Mainframe Application Functional Information.xlsx\n",
      "C:\\Users\\XY56RE\\ING\\BE Architecture CoE Application Landscape - General\\BE Mainframe Decommissioning\\AF new format\\CDW - BE Mainframe Application Functional Information.xlsx\n",
      "C:\\Users\\XY56RE\\ING\\BE Architecture CoE Application Landscape - General\\BE Mainframe Decommissioning\\AF new format\\COP - BE Mainframe Application Functional Information.xlsx\n",
      "C:\\Users\\XY56RE\\ING\\BE Architecture CoE Application Landscape - General\\BE Mainframe Decommissioning\\AF new format\\CPM - BE Mainframe Application Functional Information.xlsx\n",
      "C:\\Users\\XY56RE\\ING\\BE Architecture CoE Application Landscape - General\\BE Mainframe Decommissioning\\AF new format\\CPS - BE Mainframe Application Functional Information.xlsx\n",
      "C:\\Users\\XY56RE\\ING\\BE Architecture CoE Application Landscape - General\\BE Mainframe Decommissioning\\AF new format\\CSI - BE Mainframe Application Functional Information.xlsx\n",
      "C:\\Users\\XY56RE\\ING\\BE Architecture CoE Application Landscape - General\\BE Mainframe Decommissioning\\AF new format\\EPS - BE Mainframe Application Functional Information.xlsx\n",
      "C:\\Users\\XY56RE\\ING\\BE Architecture CoE Application Landscape - General\\BE Mainframe Decommissioning\\AF new format\\FAR - BE Mainframe Application Functional Information.xlsx\n",
      "C:\\Users\\XY56RE\\ING\\BE Architecture CoE Application Landscape - General\\BE Mainframe Decommissioning\\AF new format\\FBO - BE Mainframe Application Functional Information.xlsx\n",
      "C:\\Users\\XY56RE\\ING\\BE Architecture CoE Application Landscape - General\\BE Mainframe Decommissioning\\AF new format\\FIL - BE Mainframe Application Functional Information.xlsx\n",
      "C:\\Users\\XY56RE\\ING\\BE Architecture CoE Application Landscape - General\\BE Mainframe Decommissioning\\AF new format\\FMI - BE Mainframe Application Functional Information.xlsx\n",
      "C:\\Users\\XY56RE\\ING\\BE Architecture CoE Application Landscape - General\\BE Mainframe Decommissioning\\AF new format\\FPM - BE Mainframe Application Functional Information.xlsx\n",
      "C:\\Users\\XY56RE\\ING\\BE Architecture CoE Application Landscape - General\\BE Mainframe Decommissioning\\AF new format\\GAL - BE Mainframe Application Functional Information.xlsx\n",
      "C:\\Users\\XY56RE\\ING\\BE Architecture CoE Application Landscape - General\\BE Mainframe Decommissioning\\AF new format\\GIB - BE Mainframe Application Functional Information.xlsx\n",
      "C:\\Users\\XY56RE\\ING\\BE Architecture CoE Application Landscape - General\\BE Mainframe Decommissioning\\AF new format\\GPM - BE Mainframe Application Functional Information.xlsx\n",
      "C:\\Users\\XY56RE\\ING\\BE Architecture CoE Application Landscape - General\\BE Mainframe Decommissioning\\AF new format\\IMC - BE Mainframe Application Functional Information.xlsx\n",
      "C:\\Users\\XY56RE\\ING\\BE Architecture CoE Application Landscape - General\\BE Mainframe Decommissioning\\AF new format\\INT - BE Mainframe Application Functional Information.xlsx\n",
      "C:\\Users\\XY56RE\\ING\\BE Architecture CoE Application Landscape - General\\BE Mainframe Decommissioning\\AF new format\\OBB - BE Mainframe Application Functional Information.xlsx\n",
      "C:\\Users\\XY56RE\\ING\\BE Architecture CoE Application Landscape - General\\BE Mainframe Decommissioning\\AF new format\\PAC - BE Mainframe Application Functional Information.xlsx\n",
      "C:\\Users\\XY56RE\\ING\\BE Architecture CoE Application Landscape - General\\BE Mainframe Decommissioning\\AF new format\\PAN - BE Mainframe Application Functional Information.xlsx\n",
      "C:\\Users\\XY56RE\\ING\\BE Architecture CoE Application Landscape - General\\BE Mainframe Decommissioning\\AF new format\\PAS - BE Mainframe Application Functional Information.xlsx\n",
      "C:\\Users\\XY56RE\\ING\\BE Architecture CoE Application Landscape - General\\BE Mainframe Decommissioning\\AF new format\\PGP - BE Mainframe Application Functional Information.xlsx\n",
      "C:\\Users\\XY56RE\\ING\\BE Architecture CoE Application Landscape - General\\BE Mainframe Decommissioning\\AF new format\\PHL - BE Mainframe Application Functional Information.xlsx\n",
      "C:\\Users\\XY56RE\\ING\\BE Architecture CoE Application Landscape - General\\BE Mainframe Decommissioning\\AF new format\\RBK - BE Mainframe Application Functional Information.xlsx\n",
      "C:\\Users\\XY56RE\\ING\\BE Architecture CoE Application Landscape - General\\BE Mainframe Decommissioning\\AF new format\\SAS - BE Mainframe Application Functional Information.xlsx\n",
      "C:\\Users\\XY56RE\\ING\\BE Architecture CoE Application Landscape - General\\BE Mainframe Decommissioning\\AF new format\\TAT - BE Mainframe Application Functional Information.xlsx\n",
      "C:\\Users\\XY56RE\\ING\\BE Architecture CoE Application Landscape - General\\BE Mainframe Decommissioning\\AF new format\\TCL - BE Mainframe Application Functional Information.xlsx\n",
      "C:\\Users\\XY56RE\\ING\\BE Architecture CoE Application Landscape - General\\BE Mainframe Decommissioning\\AF new format\\TER - BE Mainframe Application Functional Information.xlsx\n",
      "C:\\Users\\XY56RE\\ING\\BE Architecture CoE Application Landscape - General\\BE Mainframe Decommissioning\\AF new format\\TPA - BE Mainframe Application Functional Information.xlsx\n",
      "C:\\Users\\XY56RE\\ING\\BE Architecture CoE Application Landscape - General\\BE Mainframe Decommissioning\\AF new format\\TPC - BE Mainframe Application Functional Information.xlsx\n",
      "C:\\Users\\XY56RE\\ING\\BE Architecture CoE Application Landscape - General\\BE Mainframe Decommissioning\\AF new format\\TVL - BE Mainframe Application Functional Information.xlsx\n"
     ]
    }
   ],
   "source": [
    "files = listdir(csv_path)\n",
    "\n",
    "for f in files:\n",
    "    xl_out = path.join(out_path, f[:3]+suffix)\n",
    "    print(xl_out)\n",
    "\n",
    "    wb = xl.load_workbook(path.join(xl_path, xl_file), read_only=False)\n",
    "    wb.save(xl_out)\n",
    "\n",
    "    ws = wb['Functional']\n",
    "    row = 2\n",
    "    with open(path.join(csv_path, f), newline='') as fd:\n",
    "        for rec in csv.reader(fd, delimiter=';'):\n",
    "            col = 1\n",
    "            for c in rec:\n",
    "                x = ws.cell(row=row, column=col)\n",
    "                x.value = c\n",
    "                x.alignment = Alignment(wrap_text=True, vertical='top')\n",
    "                col += 1\n",
    "            row += 1\n",
    "\n",
    "    if row > 2:\n",
    "        af_name= xl.worksheet.cell_range.CellRange(\"F3:F\"+str(row), title=ws.title)\n",
    "        af_range = xl.workbook.defined_name.DefinedName('AF', attr_text=af_name)\n",
    "        wb.defined_names.append(af_range)\n",
    "        af_dv = DataValidation(type=\"list\", formula1='=AF', allow_blank=False)\n",
    "\n",
    "        bo_name= xl.worksheet.cell_range.CellRange(\"I3:I\"+str(row), title=ws.title)\n",
    "        bo_range = xl.workbook.defined_name.DefinedName('BO', attr_text=bo_name)\n",
    "        wb.defined_names.append(bo_range)\n",
    "        bo_dv = DataValidation(type=\"list\", formula1='=BO', allow_blank=False)\n",
    "\n",
    "        ws2 = wb['Interactions']\n",
    "        ws2.add_data_validation(af_dv)\n",
    "        af_dv.add(\"A3:A459\")\n",
    "\n",
    "        ws2.add_data_validation(bo_dv)\n",
    "        bo_dv.add(\"B3:B459\")\n",
    "\n",
    "    wb.save(xl_out)"
   ],
   "metadata": {
    "collapsed": false,
    "pycharm": {
     "name": "#%%\n"
    }
   }
  },
  {
   "cell_type": "code",
   "execution_count": 192,
   "outputs": [],
   "source": [],
   "metadata": {
    "collapsed": false,
    "pycharm": {
     "name": "#%%\n"
    }
   }
  }
 ],
 "metadata": {
  "kernelspec": {
   "display_name": "Python 3",
   "language": "python",
   "name": "python3"
  },
  "language_info": {
   "codemirror_mode": {
    "name": "ipython",
    "version": 2
   },
   "file_extension": ".py",
   "mimetype": "text/x-python",
   "name": "python",
   "nbconvert_exporter": "python",
   "pygments_lexer": "ipython2",
   "version": "2.7.6"
  }
 },
 "nbformat": 4,
 "nbformat_minor": 0
}