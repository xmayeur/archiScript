{
 "cells": [
  {
   "cell_type": "code",
   "execution_count": 51,
   "metadata": {
    "collapsed": true
   },
   "outputs": [],
   "source": [
    "import pandas as pd\n",
    "from os import listdir\n",
    "from os.path import isfile, join\n",
    "from neo4j import GraphDatabase\n",
    "\n",
    "DIR = r'C:\\Users\\XY56RE\\PycharmProjects\\p13596-architecture-model\\CSV'\n",
    "ELEM = r'MF_Decom_elements.csv'\n",
    "PROP = r'MF_Decom_properties.csv'\n",
    "REL = r'MF_Decom_relations.csv'\n",
    "DB = 'neo4j'\n",
    "DB_PWD = 'mfdecom'\n",
    "URL = r'bolt://localhost:7687'"
   ]
  },
  {
   "cell_type": "code",
   "execution_count": 42,
   "outputs": [],
   "source": [
    "import csv\n",
    "fe = open(join(DIR, ELEM), newline='', encoding='Latin1')\n",
    "elems = csv.DictReader(fe, delimiter=';', quotechar='\"')\n",
    "\n",
    "fp = open(join(DIR, PROP), newline='', encoding='Latin1')\n",
    "props = csv.DictReader(fp, delimiter=';', quotechar='\"')\n",
    "\n",
    "fr = open(join(DIR, REL), newline='', encoding='Latin1')\n",
    "rels = csv.DictReader(fr, delimiter=';', quotechar='\"')\n"
   ],
   "metadata": {
    "collapsed": false,
    "pycharm": {
     "name": "#%%\n"
    }
   }
  },
  {
   "cell_type": "code",
   "execution_count": 49,
   "outputs": [],
   "source": [
    "fe.close()\n",
    "fp.close()\n",
    "fr.close()"
   ],
   "metadata": {
    "collapsed": false,
    "pycharm": {
     "name": "#%%\n"
    }
   }
  },
  {
   "cell_type": "code",
   "execution_count": 54,
   "outputs": [],
   "source": [
    "elems = pd.read_csv(join(DIR, ELEM), delimiter=';', quotechar='\"', engine='python', encoding='Latin1')\n",
    "props = pd.read_csv(join(DIR, PROP), delimiter=';', quotechar='\"', engine='python', encoding='Latin1')\n",
    "rels = pd.read_csv(join(DIR, REL), delimiter=';', quotechar='\"', engine='python', encoding='Latin1')"
   ],
   "metadata": {
    "collapsed": false,
    "pycharm": {
     "name": "#%%\n"
    }
   }
  },
  {
   "cell_type": "code",
   "execution_count": 132,
   "outputs": [
    {
     "data": {
      "text/plain": "1320    None\ndtype: object"
     },
     "execution_count": 132,
     "metadata": {},
     "output_type": "execute_result"
    }
   ],
   "source": [
    "id = 'id-36868863-8e35-11ec-289b-0050568b5c9f'\n",
    "\n",
    "def fct(row):\n",
    "    p = props.loc[props.ID == row['ID']].dropna()\n",
    "    row['props'] = [{x: y} for x, y in zip(p['Key'], p['Value'])]\n",
    "\n",
    "x=elems.loc[elems.ID == id].apply(lambda row : fct(row), axis=1)\n",
    "# rels.loc[rels.Target == id]\n",
    "\n",
    "x\n"
   ],
   "metadata": {
    "collapsed": false,
    "pycharm": {
     "name": "#%%\n"
    }
   }
  }
 ],
 "metadata": {
  "kernelspec": {
   "display_name": "Python 3",
   "language": "python",
   "name": "python3"
  },
  "language_info": {
   "codemirror_mode": {
    "name": "ipython",
    "version": 2
   },
   "file_extension": ".py",
   "mimetype": "text/x-python",
   "name": "python",
   "nbconvert_exporter": "python",
   "pygments_lexer": "ipython2",
   "version": "2.7.6"
  }
 },
 "nbformat": 4,
 "nbformat_minor": 0
}