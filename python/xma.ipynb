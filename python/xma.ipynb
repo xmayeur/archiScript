{
 "cells": [
  {
   "cell_type": "markdown",
   "source": [
    "# Creation of an Archimate Open Exchange File (OEF)\n",
    "\n",
    "1- Import libraries"
   ],
   "metadata": {
    "collapsed": false
   }
  },
  {
   "cell_type": "code",
   "execution_count": 1,
   "metadata": {
    "collapsed": true
   },
   "outputs": [],
   "source": [
    "import os\n",
    "import json\n",
    "import xmltodict"
   ]
  },
  {
   "cell_type": "markdown",
   "source": [
    "2- Import OEF class library"
   ],
   "metadata": {
    "collapsed": false,
    "pycharm": {
     "name": "#%% md\n"
    }
   }
  },
  {
   "cell_type": "code",
   "execution_count": 2,
   "outputs": [],
   "source": [
    "from archiObjects import *"
   ],
   "metadata": {
    "collapsed": false,
    "pycharm": {
     "name": "#%%\n"
    }
   }
  },
  {
   "cell_type": "code",
   "execution_count": 3,
   "outputs": [],
   "source": [
    "# create new model\n",
    "model = OpenExchange(\"My Model\")\n"
   ],
   "metadata": {
    "collapsed": false,
    "pycharm": {
     "name": "#%%\n"
    }
   }
  },
  {
   "cell_type": "code",
   "execution_count": 4,
   "outputs": [],
   "source": [
    "# Add elements\n",
    "e1 = Element(\"IT Solution A\", \"ApplicationCollaboration\")\n",
    "e2 = Element(\"IT Solution B\", \"ApplicationCollaboration\")\n",
    "e3 = Element(\"MyApp\", 'ApplicationComponent')\n"
   ],
   "metadata": {
    "collapsed": false,
    "pycharm": {
     "name": "#%%\n"
    }
   }
  },
  {
   "cell_type": "code",
   "execution_count": 5,
   "outputs": [],
   "source": [
    "# Add relationship\n",
    "r = Relationship(e1.uuid, e2.uuid, \"Serving\", name=\"serves\")\n",
    "model.add_relationship(r)"
   ],
   "metadata": {
    "collapsed": false,
    "pycharm": {
     "name": "#%%\n"
    }
   }
  },
  {
   "cell_type": "code",
   "execution_count": 6,
   "outputs": [],
   "source": [
    "# Add properties - should be before Views\n",
    "pdef = PropertyDefinitions()\n",
    "pdef.add('Asset Owner')\n",
    "model.add_property_def(pdef)\n",
    "p1 = Property('Asset Owner', 'Frank Vanhulle', pdef).property\n",
    "p2 = Property('Architect', 'Xavier Mayeur', pdef).property\n",
    "e1.add_property(p1, p2)\n",
    "model.add_element(e1, e2, e3)"
   ],
   "metadata": {
    "collapsed": false,
    "pycharm": {
     "name": "#%%\n"
    }
   }
  },
  {
   "cell_type": "code",
   "execution_count": 7,
   "outputs": [],
   "source": [
    "# Add a view & a diagram\n",
    "v = View('New_View')\n",
    "model.add_view(v)\n",
    "\n",
    "# Add nodes & connections to the view\n",
    "gr = Element(\"Group\", \"Grouping\")\n",
    "ngr = Node(gr, 0, 0, 200, 150)\n",
    "model.add_element(gr)\n",
    "\n",
    "grel = Relationship(gr, e1, 'Composition')\n",
    "model.add_relationship(grel)\n",
    "\n",
    "\n",
    "n1 = Node(e1.uuid, 50, 50)\n",
    "n2 = Node(e2.uuid, 300, 300, 400, 200)\n",
    "\n",
    "c = Connection(r, n1, n2)\n",
    "cgr = Connection(grel, ngr, n1)\n",
    "\n",
    "v.add_node(ngr, n1, n2)\n",
    "v.add_connection(c, cgr)\n",
    "\n",
    "# add bendpoints\n",
    "c.add_bendpoint((10+n1.w/2, 100+n1.h/2), (300+n2.w/2, 100+n2.h/2))"
   ],
   "metadata": {
    "collapsed": false,
    "pycharm": {
     "name": "#%%\n"
    }
   }
  },
  {
   "cell_type": "code",
   "execution_count": 8,
   "outputs": [],
   "source": [
    "# Add nodes in node\n",
    "n3 = Node(e3.uuid, 310, 310)\n",
    "n2.add_node(n3)\n",
    "r2 = Relationship(e2, e3, 'Aggregation')\n",
    "c2 = Connection(r2, n2, n3)\n",
    "model.add_relationship(r2)\n",
    "v.add_connection(c2)\n",
    "\n",
    "e4 = Element(\"MyData\", 'DataObject')\n",
    "model.add_element(e4)\n",
    "r4 = Relationship(e3, e4, 'Access', accessType='Write')\n",
    "model.add_relationship(r4)\n",
    "n4 = Node(e4, 310, 400)\n",
    "n2.add_node(n4)\n",
    "c4 = Connection(r4, n3, n4)\n",
    "v.add_connection(c4)"
   ],
   "metadata": {
    "collapsed": false,
    "pycharm": {
     "name": "#%%\n"
    }
   }
  },
  {
   "cell_type": "code",
   "execution_count": 19,
   "outputs": [],
   "source": [
    "# Add a style\n",
    "fc = RGBA()\n",
    "lc = RGBA()\n",
    "f = Font()\n",
    "ff = RGBA()\n",
    "\n",
    "fc.r = '255'\n",
    "fc.g = '0'\n",
    "fc.b = '0'\n",
    "fc.a = '50'\n",
    "\n",
    "lc.r = '0'\n",
    "lc.g = '0'\n",
    "lc.b = '255'\n",
    "f.name = 'Segoe UI'\n",
    "f.size = '10'\n",
    "ff.r = '0'\n",
    "ff.g = '0'\n",
    "ff.b = '0'\n",
    "f.color = ff\n",
    "\n",
    "s = Style(fc, lc, f)\n",
    "n4.add_style(s)"
   ],
   "metadata": {
    "collapsed": false,
    "pycharm": {
     "name": "#%%\n"
    }
   }
  },
  {
   "cell_type": "code",
   "execution_count": 20,
   "outputs": [
    {
     "name": "stdout",
     "output_type": "stream",
     "text": [
      "{\n",
      "    \"model\": {\n",
      "        \"@xmlns\": \"http://www.opengroup.org/xsd/archimate/3.0/\",\n",
      "        \"@xmlns:xsi\": \"http://www.w3.org/2001/XMLSchema-instance\",\n",
      "        \"@xsi:schemaLocation\": \"http://www.opengroup.org/xsd/archimate/3.0/ http://www.opengroup.org/xsd/archimate/3.1/archimate3_Diagram.xsd\",\n",
      "        \"@identifier\": \"set_id-cf1ba201afac4187b2ecd12d65ea6db9\",\n",
      "        \"name\": {\n",
      "            \"@xml:lang\": \"en\",\n",
      "            \"#text\": \"My Model\"\n",
      "        },\n",
      "        \"elements\": {\n",
      "            \"element\": [\n",
      "                {\n",
      "                    \"@identifier\": \"set_id-ac426f30a90f42eca8c9cb9826cfe2cb\",\n",
      "                    \"@xsi:type\": \"ApplicationCollaboration\",\n",
      "                    \"name\": {\n",
      "                        \"@xml:lang\": \"en\",\n",
      "                        \"#text\": \"IT Solution A\"\n",
      "                    },\n",
      "                    \"properties\": {\n",
      "                        \"property\": [\n",
      "                            {\n",
      "                                \"@propertyDefinitionRef\": \"propid_1\",\n",
      "                                \"value\": {\n",
      "                                    \"@xml:lang\": \"en\",\n",
      "                                    \"#text\": \"Frank Vanhulle\"\n",
      "                                }\n",
      "                            },\n",
      "                            {\n",
      "                                \"@propertyDefinitionRef\": \"propid_2\",\n",
      "                                \"value\": {\n",
      "                                    \"@xml:lang\": \"en\",\n",
      "                                    \"#text\": \"Xavier Mayeur\"\n",
      "                                }\n",
      "                            }\n",
      "                        ]\n",
      "                    }\n",
      "                },\n",
      "                {\n",
      "                    \"@identifier\": \"set_id-c4730f98b37c4c6896a4906078dfbda8\",\n",
      "                    \"@xsi:type\": \"ApplicationCollaboration\",\n",
      "                    \"name\": {\n",
      "                        \"@xml:lang\": \"en\",\n",
      "                        \"#text\": \"IT Solution B\"\n",
      "                    }\n",
      "                },\n",
      "                {\n",
      "                    \"@identifier\": \"set_id-c214100964544dfdac7dda5996143a7a\",\n",
      "                    \"@xsi:type\": \"ApplicationComponent\",\n",
      "                    \"name\": {\n",
      "                        \"@xml:lang\": \"en\",\n",
      "                        \"#text\": \"MyApp\"\n",
      "                    }\n",
      "                },\n",
      "                {\n",
      "                    \"@identifier\": \"set_id-04c9ebe7205c4b7c8bb7efc60b8884e5\",\n",
      "                    \"@xsi:type\": \"Grouping\",\n",
      "                    \"name\": {\n",
      "                        \"@xml:lang\": \"en\",\n",
      "                        \"#text\": \"Group\"\n",
      "                    }\n",
      "                },\n",
      "                {\n",
      "                    \"@identifier\": \"set_id-82255955caa0411da216de3f98847d72\",\n",
      "                    \"@xsi:type\": \"DataObject\",\n",
      "                    \"name\": {\n",
      "                        \"@xml:lang\": \"en\",\n",
      "                        \"#text\": \"MyData\"\n",
      "                    }\n",
      "                }\n",
      "            ]\n",
      "        },\n",
      "        \"relationships\": {\n",
      "            \"relationship\": [\n",
      "                {\n",
      "                    \"@identifier\": \"set_id-901584a35cbb4879925971c17b4539e9\",\n",
      "                    \"@source\": \"set_id-ac426f30a90f42eca8c9cb9826cfe2cb\",\n",
      "                    \"@target\": \"set_id-c4730f98b37c4c6896a4906078dfbda8\",\n",
      "                    \"@xsi:type\": \"Serving\",\n",
      "                    \"name\": {\n",
      "                        \"@xml:lang\": \"en\",\n",
      "                        \"#text\": \"serves\"\n",
      "                    }\n",
      "                },\n",
      "                {\n",
      "                    \"@identifier\": \"set_id-8597402f711f446eb24b8a4aa9b6781e\",\n",
      "                    \"@source\": \"set_id-04c9ebe7205c4b7c8bb7efc60b8884e5\",\n",
      "                    \"@target\": \"set_id-ac426f30a90f42eca8c9cb9826cfe2cb\",\n",
      "                    \"@xsi:type\": \"Composition\",\n",
      "                    \"name\": {\n",
      "                        \"@xml:lang\": \"en\",\n",
      "                        \"#text\": \"\"\n",
      "                    }\n",
      "                },\n",
      "                {\n",
      "                    \"@identifier\": \"set_id-aafea9f9164e465d8eabbcf1bda60b8f\",\n",
      "                    \"@source\": \"set_id-c4730f98b37c4c6896a4906078dfbda8\",\n",
      "                    \"@target\": \"set_id-c214100964544dfdac7dda5996143a7a\",\n",
      "                    \"@xsi:type\": \"Aggregation\",\n",
      "                    \"name\": {\n",
      "                        \"@xml:lang\": \"en\",\n",
      "                        \"#text\": \"\"\n",
      "                    }\n",
      "                },\n",
      "                {\n",
      "                    \"@identifier\": \"set_id-f0a1b23e724c4ad1b7697b44cd5ed642\",\n",
      "                    \"@source\": \"set_id-c214100964544dfdac7dda5996143a7a\",\n",
      "                    \"@target\": \"set_id-82255955caa0411da216de3f98847d72\",\n",
      "                    \"@xsi:type\": \"Access\",\n",
      "                    \"name\": {\n",
      "                        \"@xml:lang\": \"en\",\n",
      "                        \"#text\": \"\"\n",
      "                    },\n",
      "                    \"@accessType\": \"Write\"\n",
      "                }\n",
      "            ]\n",
      "        },\n",
      "        \"propertyDefinitions\": {\n",
      "            \"propertyDefinition\": [\n",
      "                {\n",
      "                    \"@identifier\": \"propid_1\",\n",
      "                    \"@type\": \"string\",\n",
      "                    \"name\": \"Asset Owner\"\n",
      "                },\n",
      "                {\n",
      "                    \"@identifier\": \"propid_2\",\n",
      "                    \"@type\": \"string\",\n",
      "                    \"name\": \"Architect\"\n",
      "                }\n",
      "            ]\n",
      "        },\n",
      "        \"views\": {\n",
      "            \"diagrams\": {\n",
      "                \"view\": [\n",
      "                    {\n",
      "                        \"@identifier\": \"set_id-8479256938884a5d892c0804f8517279\",\n",
      "                        \"@xsi:type\": \"Diagram\",\n",
      "                        \"name\": {\n",
      "                            \"@xml:lang\": \"en\",\n",
      "                            \"#text\": \"New_View\"\n",
      "                        },\n",
      "                        \"node\": [\n",
      "                            {\n",
      "                                \"@identifier\": \"set_id-c9b6a29094a7444ebcbe2ca3f9d0aead\",\n",
      "                                \"@elementRef\": \"set_id-04c9ebe7205c4b7c8bb7efc60b8884e5\",\n",
      "                                \"@xsi:type\": \"Element\",\n",
      "                                \"@x\": \"0\",\n",
      "                                \"@y\": \"0\",\n",
      "                                \"@w\": \"200\",\n",
      "                                \"@h\": \"150\"\n",
      "                            },\n",
      "                            {\n",
      "                                \"@identifier\": \"set_id-6e1501849ad246739ce5f61331016e34\",\n",
      "                                \"@elementRef\": \"set_id-ac426f30a90f42eca8c9cb9826cfe2cb\",\n",
      "                                \"@xsi:type\": \"Element\",\n",
      "                                \"@x\": \"50\",\n",
      "                                \"@y\": \"50\",\n",
      "                                \"@w\": \"120\",\n",
      "                                \"@h\": \"55\"\n",
      "                            },\n",
      "                            {\n",
      "                                \"@identifier\": \"set_id-e07a7dd3e217473aa88054e681d8d6d0\",\n",
      "                                \"@elementRef\": \"set_id-c4730f98b37c4c6896a4906078dfbda8\",\n",
      "                                \"@xsi:type\": \"Element\",\n",
      "                                \"@x\": \"300\",\n",
      "                                \"@y\": \"300\",\n",
      "                                \"@w\": \"400\",\n",
      "                                \"@h\": \"200\",\n",
      "                                \"node\": [\n",
      "                                    {\n",
      "                                        \"@identifier\": \"set_id-35ecf61d257b4b0bb2a0b1c75da736df\",\n",
      "                                        \"@elementRef\": \"set_id-c214100964544dfdac7dda5996143a7a\",\n",
      "                                        \"@xsi:type\": \"Element\",\n",
      "                                        \"@x\": \"310\",\n",
      "                                        \"@y\": \"310\",\n",
      "                                        \"@w\": \"120\",\n",
      "                                        \"@h\": \"55\"\n",
      "                                    },\n",
      "                                    {\n",
      "                                        \"@identifier\": \"set_id-bb6e0d2f28534bd4bb9dd057f679678f\",\n",
      "                                        \"@elementRef\": \"set_id-82255955caa0411da216de3f98847d72\",\n",
      "                                        \"@xsi:type\": \"Element\",\n",
      "                                        \"@x\": \"310\",\n",
      "                                        \"@y\": \"400\",\n",
      "                                        \"@w\": \"120\",\n",
      "                                        \"@h\": \"55\",\n",
      "                                        \"style\": {\n",
      "                                            \"fillColor\": {\n",
      "                                                \"@r\": \"255\",\n",
      "                                                \"@g\": \"0\",\n",
      "                                                \"@b\": \"0\",\n",
      "                                                \"@a\": \"50\"\n",
      "                                            },\n",
      "                                            \"lineColor\": {\n",
      "                                                \"@r\": \"0\",\n",
      "                                                \"@g\": \"0\",\n",
      "                                                \"@b\": \"255\",\n",
      "                                                \"@a\": \"100\"\n",
      "                                            },\n",
      "                                            \"font\": {\n",
      "                                                \"@name\": \"Segoe UI\",\n",
      "                                                \"@size\": \"10\",\n",
      "                                                \"color\": {\n",
      "                                                    \"@r\": \"0\",\n",
      "                                                    \"@g\": \"0\",\n",
      "                                                    \"@b\": \"0\"\n",
      "                                                }\n",
      "                                            }\n",
      "                                        }\n",
      "                                    }\n",
      "                                ]\n",
      "                            }\n",
      "                        ],\n",
      "                        \"connection\": [\n",
      "                            {\n",
      "                                \"@identifier\": \"set_id-974a1c0adb9b42429eb18445e15a937d\",\n",
      "                                \"@relationshipRef\": \"set_id-901584a35cbb4879925971c17b4539e9\",\n",
      "                                \"@xsi:type\": \"Relationship\",\n",
      "                                \"@source\": \"set_id-6e1501849ad246739ce5f61331016e34\",\n",
      "                                \"@target\": \"set_id-e07a7dd3e217473aa88054e681d8d6d0\",\n",
      "                                \"bendpoint\": [\n",
      "                                    {\n",
      "                                        \"@x\": \"70\",\n",
      "                                        \"@y\": \"127\"\n",
      "                                    },\n",
      "                                    {\n",
      "                                        \"@x\": \"500\",\n",
      "                                        \"@y\": \"200\"\n",
      "                                    }\n",
      "                                ]\n",
      "                            },\n",
      "                            {\n",
      "                                \"@identifier\": \"set_id-b3ea98cfbd614de1ae899ea53fe26355\",\n",
      "                                \"@relationshipRef\": \"set_id-8597402f711f446eb24b8a4aa9b6781e\",\n",
      "                                \"@xsi:type\": \"Relationship\",\n",
      "                                \"@source\": \"set_id-c9b6a29094a7444ebcbe2ca3f9d0aead\",\n",
      "                                \"@target\": \"set_id-6e1501849ad246739ce5f61331016e34\"\n",
      "                            },\n",
      "                            {\n",
      "                                \"@identifier\": \"set_id-c063f0286bfe4713b2fc1219bdd9fef0\",\n",
      "                                \"@relationshipRef\": \"set_id-aafea9f9164e465d8eabbcf1bda60b8f\",\n",
      "                                \"@xsi:type\": \"Relationship\",\n",
      "                                \"@source\": \"set_id-e07a7dd3e217473aa88054e681d8d6d0\",\n",
      "                                \"@target\": \"set_id-35ecf61d257b4b0bb2a0b1c75da736df\"\n",
      "                            },\n",
      "                            {\n",
      "                                \"@identifier\": \"set_id-0b7a69f078554209bbe45919ade74a47\",\n",
      "                                \"@relationshipRef\": \"set_id-f0a1b23e724c4ad1b7697b44cd5ed642\",\n",
      "                                \"@xsi:type\": \"Relationship\",\n",
      "                                \"@source\": \"set_id-35ecf61d257b4b0bb2a0b1c75da736df\",\n",
      "                                \"@target\": \"set_id-bb6e0d2f28534bd4bb9dd057f679678f\",\n",
      "                                \"style\": {\n",
      "                                    \"fillColor\": {\n",
      "                                        \"@r\": \"255\",\n",
      "                                        \"@g\": \"0\",\n",
      "                                        \"@b\": \"0\",\n",
      "                                        \"@a\": \"50\"\n",
      "                                    },\n",
      "                                    \"lineColor\": {\n",
      "                                        \"@r\": \"0\",\n",
      "                                        \"@g\": \"0\",\n",
      "                                        \"@b\": \"255\",\n",
      "                                        \"@a\": \"100\"\n",
      "                                    },\n",
      "                                    \"font\": {\n",
      "                                        \"@name\": \"Segoe UI\",\n",
      "                                        \"@size\": \"10\",\n",
      "                                        \"color\": {\n",
      "                                            \"@r\": \"0\",\n",
      "                                            \"@g\": \"0\",\n",
      "                                            \"@b\": \"0\"\n",
      "                                        }\n",
      "                                    }\n",
      "                                }\n",
      "                            }\n",
      "                        ]\n",
      "                    }\n",
      "                ]\n",
      "            }\n",
      "        }\n",
      "    }\n",
      "}\n"
     ]
    }
   ],
   "source": [
    "print(json.dumps(model.OEF, indent=4))\n"
   ],
   "metadata": {
    "collapsed": false,
    "pycharm": {
     "name": "#%%\n"
    }
   }
  },
  {
   "cell_type": "code",
   "execution_count": 21,
   "outputs": [],
   "source": [
    "archi = model.OEF\n",
    "file = os.path.join('output', 'out.json')\n",
    "json.dump(archi, open(file, 'w'), indent=4)\n",
    "file = os.path.join('output', 'out.xml')\n",
    "xmltodict.unparse(archi, open(file, 'w'), pretty=True)\n",
    "\n",
    "#out = xmltodict.unparse((archi))\n"
   ],
   "metadata": {
    "collapsed": false,
    "pycharm": {
     "name": "#%%\n"
    }
   }
  },
  {
   "cell_type": "code",
   "source": [
    "file = os.path.join('template', 'x.xml')\n",
    "tpl = open(file, 'r').read()\n",
    "archi = xmltodict.parse(tpl)\n",
    "print(json.dumps(archi, indent=4))"
   ],
   "metadata": {
    "collapsed": false,
    "pycharm": {
     "name": "#%%\n"
    }
   },
   "execution_count": null,
   "outputs": []
  },
  {
   "cell_type": "code",
   "execution_count": null,
   "outputs": [],
   "source": [],
   "metadata": {
    "collapsed": false,
    "pycharm": {
     "name": "#%%\n"
    }
   }
  }
 ],
 "metadata": {
  "kernelspec": {
   "display_name": "Python 3",
   "language": "python",
   "name": "python3"
  },
  "language_info": {
   "codemirror_mode": {
    "name": "ipython",
    "version": 2
   },
   "file_extension": ".py",
   "mimetype": "text/x-python",
   "name": "python",
   "nbconvert_exporter": "python",
   "pygments_lexer": "ipython2",
   "version": "2.7.6"
  }
 },
 "nbformat": 4,
 "nbformat_minor": 0
}