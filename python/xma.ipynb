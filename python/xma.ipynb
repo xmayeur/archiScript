{
 "cells": [
  {
   "cell_type": "code",
   "execution_count": null,
   "outputs": [],
   "source": [
    "import os\n",
    "import json\n",
    "import xmltodict\n",
    "from archiObjects import *"
   ],
   "metadata": {
    "collapsed": false,
    "pycharm": {
     "name": "#%%\n"
    }
   }
  },
  {
   "cell_type": "code",
   "execution_count": null,
   "outputs": [],
   "source": [
    "# Read ARIS AML file & convert it to a dictionary\n",
    "PATH = 'input'\n",
    "AMLFILE = 'AppDepPat.xml'\n",
    "\n",
    "aris_file = os.path.join(PATH, AMLFILE)\n"
   ],
   "metadata": {
    "collapsed": false,
    "pycharm": {
     "name": "#%%\n"
    }
   }
  },
  {
   "cell_type": "code",
   "execution_count": null,
   "outputs": [],
   "source": [
    "class AML:\n",
    "\n",
    "    def __init__(self, aml_file: str):\n",
    "        self.data = xmltodict.parse(open(aml_file, 'r').read())\n",
    "        self.folders = []\n",
    "        self.model = OpenExchange('aris').OEF\n",
    "\n",
    "    def parse_organizations(self, grp = None) -> bool:\n",
    "        if grp is None:\n",
    "            grp = self.data\n",
    "\n",
    "        if 'Group' not in grp:\n",
    "            return False\n",
    "\n",
    "        self.folders.append(grp['Group']['AttrDef']['AttrValue']['StyledElement'][1]['PlainText']['@TextValue'])\n",
    "        self.parse_organizations(grp)\n",
    "\n",
    "        return True\n",
    "\n",
    "\n"
   ],
   "metadata": {
    "collapsed": false,
    "pycharm": {
     "name": "#%%\n"
    }
   }
  },
  {
   "cell_type": "code",
   "execution_count": null,
   "outputs": [],
   "source": [
    "aris = AML(aris_file)"
   ],
   "metadata": {
    "collapsed": false,
    "pycharm": {
     "name": "#%%\n"
    }
   }
  },
  {
   "cell_type": "markdown",
   "source": [
    "\n",
    "# Creation of an Archimate Open Exchange File (OEF)\n",
    "\n",
    "1- Import libraries\n",
    "\n"
   ],
   "metadata": {
    "collapsed": false,
    "pycharm": {
     "name": "#%% md\n"
    }
   }
  },
  {
   "cell_type": "markdown",
   "source": [
    "2- Import OEF class library"
   ],
   "metadata": {
    "collapsed": false,
    "pycharm": {
     "name": "#%% md\n"
    }
   }
  },
  {
   "cell_type": "code",
   "execution_count": 2,
   "outputs": [],
   "source": [],
   "metadata": {
    "collapsed": false,
    "pycharm": {
     "name": "#%%\n"
    }
   }
  },
  {
   "cell_type": "code",
   "execution_count": 3,
   "outputs": [],
   "source": [
    "# create new model\n",
    "model = OpenExchange(\"My Model\")\n"
   ],
   "metadata": {
    "collapsed": false,
    "pycharm": {
     "name": "#%%\n"
    }
   }
  },
  {
   "cell_type": "code",
   "execution_count": 4,
   "outputs": [],
   "source": [
    "# Add elements\n",
    "e1 = Element(\"IT Solution A\", \"ApplicationCollaboration\")\n",
    "e2 = Element(\"IT Solution B\", \"ApplicationCollaboration\")\n",
    "e3 = Element(\"MyApp\", 'ApplicationComponent')\n"
   ],
   "metadata": {
    "collapsed": false,
    "pycharm": {
     "name": "#%%\n"
    }
   }
  },
  {
   "cell_type": "code",
   "execution_count": 5,
   "outputs": [],
   "source": [
    "# Add relationship\n",
    "r = Relationship(e1.uuid, e2.uuid, \"Serving\", name=\"serves\")\n",
    "model.add_relationships(r)"
   ],
   "metadata": {
    "collapsed": false,
    "pycharm": {
     "name": "#%%\n"
    }
   }
  },
  {
   "cell_type": "code",
   "execution_count": 6,
   "outputs": [],
   "source": [
    "# Add properties - should be before Views\n",
    "pdef = PropertyDefinitions()\n",
    "pdef.add('Asset Owner')\n",
    "model.add_property_def(pdef)\n",
    "p1 = Property('Asset Owner', 'Frank Vanhulle', pdef).property\n",
    "p2 = Property('Architect', 'Xavier Mayeur', pdef).property\n",
    "e1.add_properties(p1, p2)\n",
    "model.add_element(e1, e2, e3)"
   ],
   "metadata": {
    "collapsed": false,
    "pycharm": {
     "name": "#%%\n"
    }
   }
  },
  {
   "cell_type": "code",
   "execution_count": 7,
   "outputs": [],
   "source": [
    "# Add a view & a diagram\n",
    "v = View('New_View')\n",
    "model.add_views(v)\n",
    "\n",
    "# Add nodes & connections to the view\n",
    "gr = Element(\"Group\", \"Grouping\")\n",
    "ngr = Node(gr, 0, 0, 200, 150)\n",
    "model.add_element(gr)\n",
    "\n",
    "grel = Relationship(gr, e1, 'Composition')\n",
    "model.add_relationships(grel)\n",
    "\n",
    "\n",
    "n1 = Node(e1.uuid, 50, 50)\n",
    "n2 = Node(e2.uuid, 300, 300, 400, 200)\n",
    "\n",
    "c = Connection(r, n1, n2)\n",
    "cgr = Connection(grel, ngr, n1)\n",
    "\n",
    "v.add_node(ngr, n1, n2)\n",
    "v.add_connection(c, cgr)\n",
    "\n",
    "# add bendpoints\n",
    "c.add_bendpoint((10+n1.w/2, 100+n1.h/2), (300+n2.w/2, 100+n2.h/2))"
   ],
   "metadata": {
    "collapsed": false,
    "pycharm": {
     "name": "#%%\n"
    }
   }
  },
  {
   "cell_type": "code",
   "execution_count": 8,
   "outputs": [
    {
     "ename": "TypeError",
     "evalue": "__init__() got an unexpected keyword argument 'accessType'",
     "output_type": "error",
     "traceback": [
      "\u001B[1;31m---------------------------------------------------------------------------\u001B[0m",
      "\u001B[1;31mTypeError\u001B[0m                                 Traceback (most recent call last)",
      "\u001B[1;32m~\\AppData\\Local\\Temp/ipykernel_12208/269244887.py\u001B[0m in \u001B[0;36m<module>\u001B[1;34m\u001B[0m\n\u001B[0;32m      9\u001B[0m \u001B[0me4\u001B[0m \u001B[1;33m=\u001B[0m \u001B[0mElement\u001B[0m\u001B[1;33m(\u001B[0m\u001B[1;34m\"MyData\"\u001B[0m\u001B[1;33m,\u001B[0m \u001B[1;34m'DataObject'\u001B[0m\u001B[1;33m)\u001B[0m\u001B[1;33m\u001B[0m\u001B[1;33m\u001B[0m\u001B[0m\n\u001B[0;32m     10\u001B[0m \u001B[0mmodel\u001B[0m\u001B[1;33m.\u001B[0m\u001B[0madd_element\u001B[0m\u001B[1;33m(\u001B[0m\u001B[0me4\u001B[0m\u001B[1;33m)\u001B[0m\u001B[1;33m\u001B[0m\u001B[1;33m\u001B[0m\u001B[0m\n\u001B[1;32m---> 11\u001B[1;33m \u001B[0mr4\u001B[0m \u001B[1;33m=\u001B[0m \u001B[0mRelationship\u001B[0m\u001B[1;33m(\u001B[0m\u001B[0me3\u001B[0m\u001B[1;33m,\u001B[0m \u001B[0me4\u001B[0m\u001B[1;33m,\u001B[0m \u001B[1;34m'Access'\u001B[0m\u001B[1;33m,\u001B[0m \u001B[0maccessType\u001B[0m\u001B[1;33m=\u001B[0m\u001B[1;34m'Write'\u001B[0m\u001B[1;33m)\u001B[0m\u001B[1;33m\u001B[0m\u001B[1;33m\u001B[0m\u001B[0m\n\u001B[0m\u001B[0;32m     12\u001B[0m \u001B[0mmodel\u001B[0m\u001B[1;33m.\u001B[0m\u001B[0madd_relationship\u001B[0m\u001B[1;33m(\u001B[0m\u001B[0mr4\u001B[0m\u001B[1;33m)\u001B[0m\u001B[1;33m\u001B[0m\u001B[1;33m\u001B[0m\u001B[0m\n\u001B[0;32m     13\u001B[0m \u001B[0mn4\u001B[0m \u001B[1;33m=\u001B[0m \u001B[0mNode\u001B[0m\u001B[1;33m(\u001B[0m\u001B[0me4\u001B[0m\u001B[1;33m,\u001B[0m \u001B[1;36m310\u001B[0m\u001B[1;33m,\u001B[0m \u001B[1;36m400\u001B[0m\u001B[1;33m)\u001B[0m\u001B[1;33m\u001B[0m\u001B[1;33m\u001B[0m\u001B[0m\n",
      "\u001B[1;31mTypeError\u001B[0m: __init__() got an unexpected keyword argument 'accessType'"
     ]
    }
   ],
   "source": [
    "# Add nodes in node\n",
    "n3 = Node(e3.uuid, 310, 310)\n",
    "n2.add_node(n3)\n",
    "r2 = Relationship(e2, e3, 'Aggregation')\n",
    "c2 = Connection(r2, n2, n3)\n",
    "model.add_relationships(r2)\n",
    "v.add_connection(c2)\n",
    "\n",
    "e4 = Element(\"MyData\", 'DataObject')\n",
    "model.add_element(e4)\n",
    "r4 = Relationship(e3, e4, 'Access', accessType='Write')\n",
    "model.add_relationships(r4)\n",
    "n4 = Node(e4, 310, 400)\n",
    "n2.add_node(n4)\n",
    "c4 = Connection(r4, n3, n4)\n",
    "v.add_connection(c4)"
   ],
   "metadata": {
    "collapsed": false,
    "pycharm": {
     "name": "#%%\n"
    }
   }
  },
  {
   "cell_type": "code",
   "execution_count": null,
   "outputs": [],
   "source": [
    "# Add a style\n",
    "fc = RGBA()\n",
    "lc = RGBA()\n",
    "f = Font()\n",
    "ff = RGBA()\n",
    "\n",
    "fc.r = '255'\n",
    "fc.g = '0'\n",
    "fc.b = '0'\n",
    "fc.a = '50'\n",
    "\n",
    "lc.r = '0'\n",
    "lc.g = '0'\n",
    "lc.b = '255'\n",
    "f.name = 'Segoe UI'\n",
    "f.size = '10'\n",
    "ff.r = '0'\n",
    "ff.g = '0'\n",
    "ff.b = '0'\n",
    "f.color = ff\n",
    "\n",
    "s = Style(fc, lc, f)\n",
    "n4.add_style(s)"
   ],
   "metadata": {
    "collapsed": false,
    "pycharm": {
     "name": "#%%\n"
    }
   }
  },
  {
   "cell_type": "code",
   "execution_count": null,
   "outputs": [],
   "source": [
    "print(json.dumps(model.OEF, indent=4))\n"
   ],
   "metadata": {
    "collapsed": false,
    "pycharm": {
     "name": "#%%\n"
    }
   }
  },
  {
   "cell_type": "code",
   "execution_count": null,
   "outputs": [],
   "source": [
    "archi = model.OEF\n",
    "file = os.path.join('output', 'out.json')\n",
    "json.dump(archi, open(file, 'w'), indent=4)\n",
    "file = os.path.join('output', 'out.xml')\n",
    "xmltodict.unparse(archi, open(file, 'w'), pretty=True)\n",
    "\n",
    "#out = xmltodict.unparse((archi))\n"
   ],
   "metadata": {
    "collapsed": false,
    "pycharm": {
     "name": "#%%\n"
    }
   }
  },
  {
   "cell_type": "code",
   "source": [
    "import yaml\n",
    "import os\n",
    "import xmltodict\n",
    "import json\n",
    "file = os.path.join('input', 'xxx.xml')\n",
    "tpl = open(file, 'r').read()\n",
    "archi = xmltodict.parse(tpl)\n",
    "j=json.dumps(archi, indent=4)\n",
    "print(yaml.dump(json.loads(j)))"
   ],
   "metadata": {
    "collapsed": false,
    "pycharm": {
     "name": "#%%\n"
    }
   },
   "execution_count": 9,
   "outputs": [
    {
     "name": "stdout",
     "output_type": "stream",
     "text": [
      "model:\n",
      "  '@identifier': id-47e6cd09d13b4016be266afb0cadba3f\n",
      "  '@xmlns': http://www.opengroup.org/xsd/archimate/3.0/\n",
      "  '@xmlns:xsi': http://www.w3.org/2001/XMLSchema-instance\n",
      "  '@xsi:schemaLocation': http://www.opengroup.org/xsd/archimate/3.0/ http://www.opengroup.org/xsd/archimate/3.1/archimate3_Diagram.xsd\n",
      "  elements:\n",
      "    element:\n",
      "      '@identifier': id-68e905c5db164393b5cc7c26da80a37b\n",
      "      '@xsi:type': ApplicationComponent\n",
      "      name:\n",
      "        '#text': Application Component\n",
      "        '@xml:lang': en\n",
      "  name:\n",
      "    '#text': (new model)\n",
      "    '@xml:lang': en\n",
      "  organizations:\n",
      "    item:\n",
      "    - item:\n",
      "        '@identifierRef': id-68e905c5db164393b5cc7c26da80a37b\n",
      "      label:\n",
      "        '#text': Application\n",
      "        '@xml:lang': en\n",
      "    - item:\n",
      "        '@identifierRef': id-4ed3759709c64146905254d640022326\n",
      "      label:\n",
      "        '#text': Views\n",
      "        '@xml:lang': en\n",
      "  views:\n",
      "    diagrams:\n",
      "      view:\n",
      "        '@identifier': id-4ed3759709c64146905254d640022326\n",
      "        '@xsi:type': Diagram\n",
      "        name:\n",
      "          '#text': Default View\n",
      "          '@xml:lang': en\n",
      "        node:\n",
      "        - '@elementRef': id-68e905c5db164393b5cc7c26da80a37b\n",
      "          '@h': '55'\n",
      "          '@identifier': id-4472037836a54efd89cd12f3f7e8e5c5\n",
      "          '@w': '120'\n",
      "          '@x': '644'\n",
      "          '@xsi:type': Element\n",
      "          '@y': '129'\n",
      "          style:\n",
      "            fillColor:\n",
      "              '@a': '100'\n",
      "              '@b': '255'\n",
      "              '@g': '255'\n",
      "              '@r': '181'\n",
      "            font:\n",
      "              '@name': Segoe UI\n",
      "              '@size': '9'\n",
      "              color:\n",
      "                '@b': '0'\n",
      "                '@g': '0'\n",
      "                '@r': '0'\n",
      "            lineColor:\n",
      "              '@a': '100'\n",
      "              '@b': '92'\n",
      "              '@g': '92'\n",
      "              '@r': '92'\n",
      "        - '@h': '80'\n",
      "          '@identifier': id-231df60443e1457781732462ec48b6a9\n",
      "          '@w': '185'\n",
      "          '@x': '320'\n",
      "          '@xsi:type': Label\n",
      "          '@y': '179'\n",
      "          label:\n",
      "            '#text': Note\n",
      "            '@xml:lang': en\n",
      "          style:\n",
      "            fillColor:\n",
      "              '@a': '100'\n",
      "              '@b': '255'\n",
      "              '@g': '255'\n",
      "              '@r': '255'\n",
      "            font:\n",
      "              '@name': Segoe UI\n",
      "              '@size': '9'\n",
      "              color:\n",
      "                '@b': '0'\n",
      "                '@g': '0'\n",
      "                '@r': '0'\n",
      "            lineColor:\n",
      "              '@a': '100'\n",
      "              '@b': '92'\n",
      "              '@g': '92'\n",
      "              '@r': '92'\n",
      "\n"
     ]
    }
   ]
  },
  {
   "cell_type": "code",
   "execution_count": null,
   "outputs": [],
   "source": [],
   "metadata": {
    "collapsed": false,
    "pycharm": {
     "name": "#%%\n"
    }
   }
  }
 ],
 "metadata": {
  "kernelspec": {
   "display_name": "Python 3",
   "language": "python",
   "name": "python3"
  },
  "language_info": {
   "codemirror_mode": {
    "name": "ipython",
    "version": 2
   },
   "file_extension": ".py",
   "mimetype": "text/x-python",
   "name": "python",
   "nbconvert_exporter": "python",
   "pygments_lexer": "ipython2",
   "version": "2.7.6"
  }
 },
 "nbformat": 4,
 "nbformat_minor": 0
}